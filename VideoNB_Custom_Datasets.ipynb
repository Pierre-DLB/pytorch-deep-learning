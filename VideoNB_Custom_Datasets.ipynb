{
 "cells": [
  {
   "cell_type": "markdown",
   "metadata": {},
   "source": [
    "This botebook is aboit getting your own data into pytorch. One of the ways to do so is to build custom Datasets.\n",
    "\n",
    "For each and any problem read the doc fot the specific Dataset class (vision, text, audio, etc) and implement your own."
   ]
  },
  {
   "cell_type": "markdown",
   "metadata": {},
   "source": [
    "# Section 0: Imports"
   ]
  },
  {
   "cell_type": "code",
   "execution_count": 41,
   "metadata": {},
   "outputs": [],
   "source": [
    "# torch\n",
    "import torch\n",
    "from torch import nn\n",
    "import torch.nn.functional as F\n",
    "import torchvision\n",
    "from torchvision import transforms, datasets\n",
    "\n",
    "# visualisation\n",
    "import matplotlib.pyplot as plt\n",
    "from PIL import Image\n",
    "\n",
    "# nav : \n",
    "from pathlib import Path\n",
    "\n",
    "# utils\n",
    "from pathlib import Path\n",
    "import requests\n",
    "import zipfile"
   ]
  },
  {
   "cell_type": "code",
   "execution_count": 3,
   "metadata": {},
   "outputs": [],
   "source": [
    "device = torch.device(\"mps\")"
   ]
  },
  {
   "cell_type": "markdown",
   "metadata": {},
   "source": [
    "# Section 1: Create the Dataset\n",
    "\n",
    "Inspired by food101, we will use a subset for our experiences.\n",
    "\n",
    "In the notebook extra > custom_dataset\n",
    "\n",
    "We start with 3 classes of food, and start with only 10% of the images. Starting ML projects, it is indeed important to experiment small and fast and then scale up."
   ]
  },
  {
   "cell_type": "code",
   "execution_count": 5,
   "metadata": {},
   "outputs": [
    {
     "name": "stdout",
     "output_type": "stream",
     "text": [
      "data already downloaded\n"
     ]
    }
   ],
   "source": [
    "data_path = Path(\"data\")\n",
    "img_path = data_path / \"pizza_steak_sushi\"\n",
    "\n",
    "\n",
    "\n",
    "if img_path.is_dir():\n",
    "    print(\"data already downloaded\")\n",
    "\n",
    "else:\n",
    "    print(\"image path doesn't exist, creating one.\")\n",
    "    img_path.mkdir(parents=True, exist_ok=True)\n",
    "\n",
    "    with open(data_path / \"pizza_steak_sushi.zip\", \"wb\") as f:\n",
    "        request =  requests.get(\"https://github.com/mrdbourke/pytorch-deep-learning/raw/main/data/pizza_steak_sushi.zip\")\n",
    "        print(\"downloading data\")\n",
    "        f.write(request.content)\n",
    "\n",
    "\n",
    "    with zipfile.ZipFile(data_path / \"pizza_steak_sushi.zip\", \"r\") as zip_ref:\n",
    "        print(\"unzipping file\")\n",
    "        zip_ref.extractall(img_path)"
   ]
  },
  {
   "cell_type": "code",
   "execution_count": 6,
   "metadata": {},
   "outputs": [],
   "source": [
    "train_path = img_path / \"train\"\n",
    "test_path = img_path / \"test\""
   ]
  },
  {
   "cell_type": "markdown",
   "metadata": {},
   "source": [
    "### Visualize the datain the dataset:"
   ]
  },
  {
   "cell_type": "code",
   "execution_count": 13,
   "metadata": {},
   "outputs": [],
   "source": [
    "import matplotlib.pyplot as plt\n",
    "import random\n",
    "from PIL import Image\n",
    "import os\n",
    "\n",
    "def walkthrough(dir_path):\n",
    "    \"\"\" walks through dirpath and return its content\"\"\"\n",
    "\n",
    "    for dirpath, dirnames, filenames in os.walk(dir_path):\n",
    "        print(f\"there are {len(dirnames)} directories and {len(filenames)} files in {dirpath}.\")"
   ]
  },
  {
   "cell_type": "code",
   "execution_count": 11,
   "metadata": {},
   "outputs": [
    {
     "name": "stdout",
     "output_type": "stream",
     "text": [
      "there are 2 directories and 0 files in data/pizza_steak_sushi.\n",
      "there are 3 directories and 0 files in data/pizza_steak_sushi/test.\n",
      "there are 0 directories and 19 files in data/pizza_steak_sushi/test/steak.\n",
      "there are 0 directories and 31 files in data/pizza_steak_sushi/test/sushi.\n",
      "there are 0 directories and 25 files in data/pizza_steak_sushi/test/pizza.\n",
      "there are 3 directories and 0 files in data/pizza_steak_sushi/train.\n",
      "there are 0 directories and 75 files in data/pizza_steak_sushi/train/steak.\n",
      "there are 0 directories and 72 files in data/pizza_steak_sushi/train/sushi.\n",
      "there are 0 directories and 78 files in data/pizza_steak_sushi/train/pizza.\n"
     ]
    }
   ],
   "source": [
    "walkthrough(img_path)"
   ]
  },
  {
   "cell_type": "code",
   "execution_count": 37,
   "metadata": {},
   "outputs": [],
   "source": [
    "def display_img(path):\n",
    "    img = Image.open(path)\n",
    "    print(\"size :\", img.size)\n",
    "    print(\"class :\", path.parent.stem)\n",
    "    return img"
   ]
  },
  {
   "cell_type": "code",
   "execution_count": 22,
   "metadata": {},
   "outputs": [],
   "source": [
    "def choose_random_img(root_path, seed=42):\n",
    "    random.seed(42)\n",
    "    img_list=list(root_path.glob(\"*/*/*.jpg\"))\n",
    "    image=random.choice(img_list)\n",
    "    return image\n"
   ]
  },
  {
   "cell_type": "code",
   "execution_count": 31,
   "metadata": {},
   "outputs": [],
   "source": [
    "image0, classe = display_img(choose_random_img(img_path))"
   ]
  },
  {
   "cell_type": "markdown",
   "metadata": {},
   "source": [
    "We can do the same with matplotlib.pyplot.imshow(), except we have to convert the image to a NumPy array first.. the nice point though is that it is possible to display it as an image with title and all."
   ]
  },
  {
   "cell_type": "markdown",
   "metadata": {},
   "source": [
    "# Building the Dataset : \n",
    "\n",
    "### Need to do a few steps : \n",
    "- data is in raw files -> need to be transformed into tensors\n",
    "- those files mus be aggregated in a similar schema -> build a dataset on top of it (seem to be an abstaction layer)\n",
    "- this dataset must then be loaded in the *PU, so use a data loader.\n",
    "\n",
    "\n",
    "In this order because to build a dataset you need to declare the transformation to apply to the images first.\n",
    "\n",
    "**Dataset format and transformations are specific to the kind of data being handeled, dataloaders are not; as a resutlt :**\n",
    "- Dataset & tranfos -> `torchvision.datasets` & `torchvision.transforms`\n",
    "- DataLoader -> `torch.utils.data`"
   ]
  },
  {
   "cell_type": "code",
   "execution_count": 192,
   "metadata": {
    "notebookRunGroups": {
     "groupValue": ""
    }
   },
   "outputs": [],
   "source": [
    "# 1 - Transforming the images into tensor, all the same size\n",
    "# -> torchvision.transforms\n",
    "\n",
    "train_transform = torchvision.transforms.Compose([\n",
    "    transforms.Resize((64, 64)),\n",
    "    transforms.RandomHorizontalFlip(p=0.3),\n",
    "    transforms.TrivialAugmentWide(num_magnitude_bins=31),\n",
    "    transforms.ToTensor(),\n",
    "])\n",
    "\n",
    "test_transform = torchvision.transforms.Compose([\n",
    "    transforms.Resize((64, 64)),\n",
    "    transforms.ToTensor(),\n",
    "])\n",
    "\n",
    "# s'applique directement sur l'image. sur le site, il y a un code qui permet de montrer plusieurs images."
   ]
  },
  {
   "cell_type": "markdown",
   "metadata": {},
   "source": [
    "### Create a Dataset\n",
    "\n",
    "2 possibilities : use the already existing `ImageFolder()`, or build a custom class `CustomDataset` replicating the effect. "
   ]
  },
  {
   "cell_type": "code",
   "execution_count": 193,
   "metadata": {},
   "outputs": [],
   "source": [
    "# 1 simple : use ImageFolder\n",
    "\n",
    "train_set = datasets.ImageFolder(train_path, transform=train_transform)\n",
    "test_set = datasets.ImageFolder(test_path, test_transform)\n",
    "label_mapping = train_set.class_to_idx"
   ]
  },
  {
   "cell_type": "markdown",
   "metadata": {},
   "source": [
    "### Dataset into dataloader"
   ]
  },
  {
   "cell_type": "code",
   "execution_count": 194,
   "metadata": {},
   "outputs": [],
   "source": [
    "from torch.utils.data import DataLoader, Dataset"
   ]
  },
  {
   "cell_type": "code",
   "execution_count": 195,
   "metadata": {},
   "outputs": [],
   "source": [
    "train_loader = DataLoader(train_set, 16, True, num_workers=1)\n",
    "test_loader = DataLoader(test_set, 16, False, num_workers=1)"
   ]
  },
  {
   "cell_type": "code",
   "execution_count": 165,
   "metadata": {},
   "outputs": [],
   "source": [
    "def extract_img(batch, i=0):\n",
    "    image = batch[0][i,:,:,:] #.permute(1, 2, 0) -> for matplotlib\n",
    "    label = batch[1][i]\n",
    "    return image, label"
   ]
  },
  {
   "cell_type": "code",
   "execution_count": 145,
   "metadata": {},
   "outputs": [
    {
     "data": {
      "text/plain": [
       "Text(0.5, 1.0, 'class 1')"
      ]
     },
     "execution_count": 145,
     "metadata": {},
     "output_type": "execute_result"
    },
    {
     "data": {
      "image/png": "[encoded data removed]",
      "text/plain": [
       "<Figure size 640x480 with 1 Axes>"
      ]
     },
     "metadata": {},
     "output_type": "display_data"
    }
   ],
   "source": [
    "image0, label0= extract_img(next(iter(train_loader)))\n",
    "plt.imshow(image0)\n",
    "plt.title(f\"class {label0}\")"
   ]
  },
  {
   "cell_type": "markdown",
   "metadata": {},
   "source": [
    "### Mimicking the ImageFolder class"
   ]
  },
  {
   "cell_type": "code",
   "execution_count": 81,
   "metadata": {},
   "outputs": [],
   "source": [
    "# import os\n",
    "# import pathlib\n",
    "# import torch\n",
    "\n",
    "# from PIL import Image\n",
    "# from torch.utils.data import DataLoader\n",
    "# from torchvision import transforms\n",
    "from typing import Tuple, Dict, List"
   ]
  },
  {
   "cell_type": "code",
   "execution_count": 123,
   "metadata": {},
   "outputs": [
    {
     "data": {
      "text/plain": [
       "({'pizza': 0, 'steak': 1, 'sushi': 2}, ['pizza', 'steak', 'sushi'])"
      ]
     },
     "execution_count": 123,
     "metadata": {},
     "output_type": "execute_result"
    }
   ],
   "source": [
    "train_set.class_to_idx, train_set.classes"
   ]
  },
  {
   "cell_type": "code",
   "execution_count": null,
   "metadata": {},
   "outputs": [],
   "source": []
  },
  {
   "cell_type": "code",
   "execution_count": 124,
   "metadata": {},
   "outputs": [
    {
     "name": "stdout",
     "output_type": "stream",
     "text": [
      "Target directory : data/pizza_steak_sushi/train\n"
     ]
    }
   ],
   "source": [
    "target_dir = train_path\n",
    "print(f\"Target directory : {target_dir}\")"
   ]
  },
  {
   "cell_type": "code",
   "execution_count": 125,
   "metadata": {},
   "outputs": [],
   "source": [
    "class_names = sorted([dir.name for dir in os.scandir(train_path)])"
   ]
  },
  {
   "cell_type": "code",
   "execution_count": 126,
   "metadata": {},
   "outputs": [],
   "source": [
    "def find_classes(directory: str) -> Tuple[List[str], Dict[str, int]]:\n",
    "    \"\"\" find the classes in the directory and returns : \n",
    "        - the list of the classes names (ordered)\n",
    "        - the dictionnary of the class to index match\n",
    "    \"\"\"\n",
    "\n",
    "    classes_names = sorted([entry.name for entry in os.scandir(train_path) if entry.is_dir()])\n",
    "    class_to_idx = {name : idx for (idx, name) in enumerate(classes_names)}\n",
    "\n",
    "    return classes_names, class_to_idx"
   ]
  },
  {
   "cell_type": "code",
   "execution_count": 127,
   "metadata": {},
   "outputs": [
    {
     "data": {
      "text/plain": [
       "(['pizza', 'steak', 'sushi'], {'pizza': 0, 'steak': 1, 'sushi': 2})"
      ]
     },
     "execution_count": 127,
     "metadata": {},
     "output_type": "execute_result"
    }
   ],
   "source": [
    "find_classes(train_path)"
   ]
  },
  {
   "cell_type": "code",
   "execution_count": null,
   "metadata": {},
   "outputs": [],
   "source": []
  },
  {
   "cell_type": "code",
   "execution_count": 128,
   "metadata": {},
   "outputs": [],
   "source": [
    "class CustomDataset(Dataset):\n",
    "\n",
    "    # initilaize the Dataset\n",
    "    def __init__(self, targ_dir: str, transform=None) -> None:\n",
    "        # path : get the path of every single image\n",
    "        self.paths = [image_path for image_path in targ_dir.glob(\"*/*.jpg\")] # to change wif need to have jpg and png. \n",
    "        # trick : glob(\"*/*.jpg\") : only looks 1 layer down for pg. glob(\"**/*.jpg\") searches all layers down\n",
    "\n",
    "        self.transform = transform\n",
    "\n",
    "        self.classes_names, self.class_to_idx = find_classes(targ_dir)\n",
    "\n",
    "    # kind of optionnal\n",
    "    def load_image(self, index: int) -> Image.Image:\n",
    "        return Image.open(self.paths[index])\n",
    "\n",
    "    # to overwrite\n",
    "    def __len__(self) -> int:\n",
    "        return len(self.paths)\n",
    "\n",
    "    # compulsory to overwrite\n",
    "    def __getitem__(self, index: int) -> Tuple[torch.Tensor, int]:\n",
    "        \n",
    "        image = self.load_image(index)\n",
    "        label_name = self.paths[index].parent.stem\n",
    "        label = self.class_to_idx[label_name]\n",
    "\n",
    "        # /!\\ Apply transform !\n",
    "        tensor = image if self.transform is None else self.transform(image)\n",
    "\n",
    "        return tensor, label\n"
   ]
  },
  {
   "cell_type": "markdown",
   "metadata": {},
   "source": [
    "# Datasets and dataloaders are built. Let's get to the model"
   ]
  },
  {
   "cell_type": "markdown",
   "metadata": {},
   "source": [
    "`TrivialAugment()` ?"
   ]
  },
  {
   "cell_type": "code",
   "execution_count": 139,
   "metadata": {},
   "outputs": [
    {
     "data": {
      "text/plain": [
       "<torch._C.Generator at 0x126d9f790>"
      ]
     },
     "execution_count": 139,
     "metadata": {},
     "output_type": "execute_result"
    }
   ],
   "source": [
    "class TinyVGG(nn.Module):\n",
    "    \"\"\"\n",
    "        see https://poloclub.github.io/cnn-explainer/\n",
    "    \"\"\"\n",
    "\n",
    "    def __init__(self, input_shape: int, hidden_units: int, output_shape: int) -> None:\n",
    "        super().__init__()\n",
    "        self.conv_block1 = nn.Sequential(\n",
    "            nn.Conv2d(input_shape, hidden_units, kernel_size=3, stride=1, padding=1),\n",
    "            nn.ReLU(),\n",
    "            nn.Conv2d(hidden_units, hidden_units, kernel_size=3, stride=1, padding=1),\n",
    "            nn.ReLU(),\n",
    "            nn.MaxPool2d(kernel_size=2, stride=2)\n",
    "        )\n",
    "\n",
    "        self.conv_block2 = nn.Sequential(\n",
    "            nn.Conv2d(hidden_units, hidden_units, kernel_size=3, stride=1, padding=1),\n",
    "            nn.ReLU(),\n",
    "            nn.Conv2d(hidden_units, hidden_units, kernel_size=3, stride=1, padding=1),\n",
    "            nn.ReLU(),\n",
    "            nn.MaxPool2d(kernel_size=2, stride=2)\n",
    "        )\n",
    "\n",
    "        self.classifier = nn.Sequential(nn.Flatten(), \n",
    "                                        nn.Linear(in_features=hidden_units*16*16, out_features=output_shape))\n",
    "        \n",
    "        # to try and improve final classifier\n",
    "        self.feature_extraction = nn.Sequential(\n",
    "            self.conv_block1,\n",
    "            self.conv_block2,\n",
    "            nn.Flatten()\n",
    "        )\n",
    "\n",
    "    \n",
    "    def forward(self, x):\n",
    "        features = self.conv_block2(self.conv_block1(x))\n",
    "        return self.classifier(features)\n",
    "\n",
    "torch.manual_seed(42)"
   ]
  },
  {
   "cell_type": "code",
   "execution_count": 150,
   "metadata": {},
   "outputs": [
    {
     "data": {
      "text/plain": [
       "TinyVGG(\n",
       "  (conv_block1): Sequential(\n",
       "    (0): Conv2d(3, 10, kernel_size=(3, 3), stride=(1, 1), padding=(1, 1))\n",
       "    (1): ReLU()\n",
       "    (2): Conv2d(10, 10, kernel_size=(3, 3), stride=(1, 1), padding=(1, 1))\n",
       "    (3): ReLU()\n",
       "    (4): MaxPool2d(kernel_size=2, stride=2, padding=0, dilation=1, ceil_mode=False)\n",
       "  )\n",
       "  (conv_block2): Sequential(\n",
       "    (0): Conv2d(10, 10, kernel_size=(3, 3), stride=(1, 1), padding=(1, 1))\n",
       "    (1): ReLU()\n",
       "    (2): Conv2d(10, 10, kernel_size=(3, 3), stride=(1, 1), padding=(1, 1))\n",
       "    (3): ReLU()\n",
       "    (4): MaxPool2d(kernel_size=2, stride=2, padding=0, dilation=1, ceil_mode=False)\n",
       "  )\n",
       "  (classifier): Sequential(\n",
       "    (0): Flatten(start_dim=1, end_dim=-1)\n",
       "    (1): Linear(in_features=2560, out_features=3, bias=True)\n",
       "  )\n",
       "  (feature_extraction): Sequential(\n",
       "    (0): Sequential(\n",
       "      (0): Conv2d(3, 10, kernel_size=(3, 3), stride=(1, 1), padding=(1, 1))\n",
       "      (1): ReLU()\n",
       "      (2): Conv2d(10, 10, kernel_size=(3, 3), stride=(1, 1), padding=(1, 1))\n",
       "      (3): ReLU()\n",
       "      (4): MaxPool2d(kernel_size=2, stride=2, padding=0, dilation=1, ceil_mode=False)\n",
       "    )\n",
       "    (1): Sequential(\n",
       "      (0): Conv2d(10, 10, kernel_size=(3, 3), stride=(1, 1), padding=(1, 1))\n",
       "      (1): ReLU()\n",
       "      (2): Conv2d(10, 10, kernel_size=(3, 3), stride=(1, 1), padding=(1, 1))\n",
       "      (3): ReLU()\n",
       "      (4): MaxPool2d(kernel_size=2, stride=2, padding=0, dilation=1, ceil_mode=False)\n",
       "    )\n",
       "    (2): Flatten(start_dim=1, end_dim=-1)\n",
       "  )\n",
       ")"
      ]
     },
     "execution_count": 150,
     "metadata": {},
     "output_type": "execute_result"
    }
   ],
   "source": [
    "model_0 = TinyVGG(input_shape=3,\n",
    "                  hidden_units=10, \n",
    "                  output_shape=3).to(device)\n",
    "\n",
    "model_0"
   ]
  },
  {
   "cell_type": "code",
   "execution_count": 146,
   "metadata": {},
   "outputs": [
    {
     "data": {
      "text/plain": [
       "==========================================================================================\n",
       "Layer (type:depth-idx)                   Output Shape              Param #\n",
       "==========================================================================================\n",
       "TinyVGG                                  [16, 3]                   --\n",
       "├─Sequential: 1-1                        --                        --\n",
       "│    └─Sequential: 2-1                   [16, 10, 32, 32]          --\n",
       "│    │    └─Conv2d: 3-1                  [16, 10, 64, 64]          280\n",
       "│    │    └─ReLU: 3-2                    [16, 10, 64, 64]          --\n",
       "│    │    └─Conv2d: 3-3                  [16, 10, 64, 64]          910\n",
       "│    │    └─ReLU: 3-4                    [16, 10, 64, 64]          --\n",
       "│    │    └─MaxPool2d: 3-5               [16, 10, 32, 32]          --\n",
       "│    └─Sequential: 2-2                   [16, 10, 16, 16]          --\n",
       "│    │    └─Conv2d: 3-6                  [16, 10, 32, 32]          910\n",
       "│    │    └─ReLU: 3-7                    [16, 10, 32, 32]          --\n",
       "│    │    └─Conv2d: 3-8                  [16, 10, 32, 32]          910\n",
       "│    │    └─ReLU: 3-9                    [16, 10, 32, 32]          --\n",
       "│    │    └─MaxPool2d: 3-10              [16, 10, 16, 16]          --\n",
       "├─Sequential: 1-2                        [16, 3]                   --\n",
       "│    └─Flatten: 2-3                      [16, 2560]                --\n",
       "│    └─Linear: 2-4                       [16, 3]                   7,683\n",
       "==========================================================================================\n",
       "Total params: 10,693\n",
       "Trainable params: 10,693\n",
       "Non-trainable params: 0\n",
       "Total mult-adds (M): 107.93\n",
       "==========================================================================================\n",
       "Input size (MB): 0.79\n",
       "Forward/backward pass size (MB): 13.11\n",
       "Params size (MB): 0.04\n",
       "Estimated Total Size (MB): 13.94\n",
       "=========================================================================================="
      ]
     },
     "execution_count": 146,
     "metadata": {},
     "output_type": "execute_result"
    }
   ],
   "source": [
    "from torchinfo import summary\n",
    "\n",
    "summary(model_0, input_data=next(iter(train_loader))[0])"
   ]
  },
  {
   "cell_type": "code",
   "execution_count": 147,
   "metadata": {},
   "outputs": [],
   "source": []
  },
  {
   "cell_type": "code",
   "execution_count": 168,
   "metadata": {},
   "outputs": [
    {
     "name": "stdout",
     "output_type": "stream",
     "text": [
      "Img in-size tensor([[[[0.7529, 0.8353, 0.8431,  ..., 0.4941, 0.4314, 0.3255],\n",
      "          [0.4980, 0.6392, 0.7294,  ..., 0.5098, 0.5373, 0.3961],\n",
      "          [0.2392, 0.2431, 0.3451,  ..., 0.5725, 0.6275, 0.6431],\n",
      "          ...,\n",
      "          [0.9216, 0.9255, 0.9412,  ..., 0.8275, 0.8784, 0.9686],\n",
      "          [0.9098, 0.9176, 0.9294,  ..., 0.8431, 0.9255, 0.9922],\n",
      "          [0.8627, 0.8980, 0.9059,  ..., 0.8588, 0.9725, 0.9961]],\n",
      "\n",
      "         [[0.6863, 0.7882, 0.7922,  ..., 0.3725, 0.2706, 0.1412],\n",
      "          [0.3725, 0.5333, 0.6275,  ..., 0.3882, 0.4078, 0.2392],\n",
      "          [0.1176, 0.1216, 0.2235,  ..., 0.4784, 0.5333, 0.5333],\n",
      "          ...,\n",
      "          [0.4824, 0.4863, 0.4941,  ..., 0.4392, 0.6039, 0.8941],\n",
      "          [0.4706, 0.4980, 0.5294,  ..., 0.5059, 0.7686, 0.9804],\n",
      "          [0.3647, 0.4392, 0.5059,  ..., 0.6039, 0.9176, 0.9882]],\n",
      "\n",
      "         [[0.7373, 0.8471, 0.8510,  ..., 0.3255, 0.2118, 0.0745],\n",
      "          [0.3608, 0.5412, 0.6431,  ..., 0.3294, 0.3529, 0.1686],\n",
      "          [0.1020, 0.1137, 0.2039,  ..., 0.4235, 0.4863, 0.4667],\n",
      "          ...,\n",
      "          [0.3451, 0.3294, 0.3255,  ..., 0.2863, 0.5137, 0.8706],\n",
      "          [0.3569, 0.3843, 0.4118,  ..., 0.3765, 0.7216, 0.9765],\n",
      "          [0.2314, 0.3216, 0.4039,  ..., 0.5294, 0.9059, 0.9922]]]])\n",
      "\n",
      "logit output: tensor([[-0.0299,  0.0194, -0.0112]], device='mps:0')\n",
      "Proba output: tensor([[0.3258, 0.3423, 0.3319]], device='mps:0')\n",
      "Predicted class: 1\n",
      "Actual label: 2\n"
     ]
    }
   ],
   "source": [
    "image_0, label_0 = extract_img(next(iter(train_loader)), 4)\n",
    "\n",
    "print(f\"Img in-size {image_0.unsqueeze(dim=0).shape}\\n\")\n",
    "\n",
    "model_0.eval()\n",
    "with torch.inference_mode():\n",
    "    pred= model_0(image_0.unsqueeze(dim=0).to(device))\n",
    "\n",
    "print(f\"logit output: {pred}\")\n",
    "print(f\"Proba output: {torch.softmax(pred, dim=1)}\")\n",
    "print(f\"Predicted class: {torch.argmax(torch.softmax(pred, dim=1))}\")\n",
    "print(f\"Actual label: {label_0}\")"
   ]
  },
  {
   "cell_type": "code",
   "execution_count": 161,
   "metadata": {},
   "outputs": [
    {
     "data": {
      "text/plain": [
       "torch.Size([1, 3, 64, 64])"
      ]
     },
     "execution_count": 161,
     "metadata": {},
     "output_type": "execute_result"
    }
   ],
   "source": [
    "train_set[0][0].unsqueeze(dim=0).shape"
   ]
  },
  {
   "cell_type": "code",
   "execution_count": 162,
   "metadata": {},
   "outputs": [
    {
     "data": {
      "text/plain": [
       "torch.Size([1, 16, 3, 64, 64])"
      ]
     },
     "execution_count": 162,
     "metadata": {},
     "output_type": "execute_result"
    }
   ],
   "source": [
    "next(iter(train_loader))[0].unsqueeze(dim=0).shape"
   ]
  },
  {
   "cell_type": "code",
   "execution_count": 170,
   "metadata": {},
   "outputs": [
    {
     "data": {
      "text/plain": [
       "==========================================================================================\n",
       "Layer (type:depth-idx)                   Output Shape              Param #\n",
       "==========================================================================================\n",
       "TinyVGG                                  [16, 3]                   --\n",
       "├─Sequential: 1-1                        --                        --\n",
       "│    └─Sequential: 2-1                   [16, 10, 32, 32]          --\n",
       "│    │    └─Conv2d: 3-1                  [16, 10, 64, 64]          280\n",
       "│    │    └─ReLU: 3-2                    [16, 10, 64, 64]          --\n",
       "│    │    └─Conv2d: 3-3                  [16, 10, 64, 64]          910\n",
       "│    │    └─ReLU: 3-4                    [16, 10, 64, 64]          --\n",
       "│    │    └─MaxPool2d: 3-5               [16, 10, 32, 32]          --\n",
       "│    └─Sequential: 2-2                   [16, 10, 16, 16]          --\n",
       "│    │    └─Conv2d: 3-6                  [16, 10, 32, 32]          910\n",
       "│    │    └─ReLU: 3-7                    [16, 10, 32, 32]          --\n",
       "│    │    └─Conv2d: 3-8                  [16, 10, 32, 32]          910\n",
       "│    │    └─ReLU: 3-9                    [16, 10, 32, 32]          --\n",
       "│    │    └─MaxPool2d: 3-10              [16, 10, 16, 16]          --\n",
       "├─Sequential: 1-2                        [16, 3]                   --\n",
       "│    └─Flatten: 2-3                      [16, 2560]                --\n",
       "│    └─Linear: 2-4                       [16, 3]                   7,683\n",
       "==========================================================================================\n",
       "Total params: 10,693\n",
       "Trainable params: 10,693\n",
       "Non-trainable params: 0\n",
       "Total mult-adds (M): 107.93\n",
       "==========================================================================================\n",
       "Input size (MB): 0.79\n",
       "Forward/backward pass size (MB): 13.11\n",
       "Params size (MB): 0.04\n",
       "Estimated Total Size (MB): 13.94\n",
       "=========================================================================================="
      ]
     },
     "execution_count": 170,
     "metadata": {},
     "output_type": "execute_result"
    }
   ],
   "source": [
    "try:\n",
    "    import torchinfo\n",
    "\n",
    "except:\n",
    "    !pip install torchinfo\n",
    "    import torchinfo\n",
    "\n",
    "from torchinfo import summary\n",
    "\n",
    "summary(model_0, input_data=next(iter(train_loader))[0].to(device)) # both have to be in the same device in order to work"
   ]
  },
  {
   "cell_type": "code",
   "execution_count": 171,
   "metadata": {},
   "outputs": [],
   "source": [
    "def train_epoch(model: nn.Module,\n",
    "                train_data: DataLoader,\n",
    "                loss_fn: torch.nn.Module,\n",
    "                optimizer: torch.optim.Optimizer) -> Tuple[float]:\n",
    "    \"\"\" Training loop for one epoch. Assumes that model is already on device. \"\"\"\n",
    "\n",
    "    model.train()\n",
    "    \n",
    "    train_loss, train_acc= 0, 0\n",
    "\n",
    "    for i, (X, y) in enumerate(train_data):\n",
    "        X, y = X.to(device), y.to(device)\n",
    "        \n",
    "        # forward pass\n",
    "        y_pred = model(X)\n",
    "\n",
    "        # back propagation\n",
    "        loss = loss_fn(y_pred, y)\n",
    "        optimizer.zero_grad()\n",
    "        loss.backward()\n",
    "        optimizer.step()\n",
    "\n",
    "        # metrics\n",
    "        y_pred_class = torch.argmax(torch.softmax(y_pred, dim=1), dim=1)\n",
    "        acc = (y_pred_class == y).sum().item()/len(y)\n",
    "\n",
    "        train_loss += loss.item()\n",
    "        train_acc += acc\n",
    "\n",
    "    return train_loss/len(train_data), train_acc/len(train_data)\n"
   ]
  },
  {
   "cell_type": "code",
   "execution_count": 181,
   "metadata": {},
   "outputs": [],
   "source": [
    "def test_epoch(model: nn.Module,\n",
    "               test_data: DataLoader,\n",
    "               loss_fn: nn.Module):\n",
    "    \n",
    "    model.eval()\n",
    "    test_loss=0\n",
    "    test_acc =0\n",
    "\n",
    "    for X, y in test_data:\n",
    "        X, y = X.to(device), y.to(device)\n",
    "        y_pred=model(X)\n",
    "\n",
    "        loss = loss_fn(y_pred, y)\n",
    "        test_loss += loss.item()\n",
    "\n",
    "        y_classes = torch.argmax(torch.softmax(y_pred, dim=1), dim=1)\n",
    "\n",
    "        acc = (y== y_classes).sum().item()/len(y)\n",
    "        test_acc += acc\n",
    "\n",
    "    return test_loss/len(test_data), test_acc/len(test_data)\n",
    "\n",
    "        \n"
   ]
  },
  {
   "cell_type": "code",
   "execution_count": 182,
   "metadata": {},
   "outputs": [],
   "source": [
    "try:\n",
    "    import tqdm\n",
    "except:\n",
    "    !pip install tqdm\n",
    "    import tqdm\n",
    "\n",
    "from tqdm.auto import tqdm\n",
    "\n",
    "def train(model: nn.Module,\n",
    "          epochs: int,\n",
    "          train_dl: DataLoader,\n",
    "          test_dl: DataLoader,\n",
    "          optimizer: torch.optim.Optimizer, \n",
    "          loss_fn: nn.Module = nn.CrossEntropyLoss()):\n",
    "    \n",
    "    model.to(device)\n",
    "\n",
    "    metrics = {\n",
    "        \"train_loss\" : [],\n",
    "        \"train_acc\" : [],\n",
    "        \"test_loss\" : [],\n",
    "        \"test_acc\" : []\n",
    "    }\n",
    "\n",
    "    for i in tqdm(range(epochs)):\n",
    "        train_loss, train_acc = train_epoch(model, train_dl, loss_fn, optimizer)\n",
    "        metrics[\"train_loss\"].append(train_loss)\n",
    "        metrics[\"train_acc\"].append(train_acc)\n",
    "\n",
    "        test_loss, test_acc = test_epoch(model, test_dl, loss_fn)\n",
    "        metrics[\"test_loss\"].append(test_loss)\n",
    "        metrics[\"test_acc\"].append(test_acc)\n",
    "\n",
    "        print(f\"Epoch {i+1}: \\n \\tTrain_loss: {train_loss:.3f} | Train_acc: {train_acc:.3f} \\n \\t Test_loss: {test_loss:.3f} | Test_acc: {test_acc:.3f}\")\n",
    "    \n",
    "    return metrics\n",
    "    \n",
    "    "
   ]
  },
  {
   "cell_type": "code",
   "execution_count": 183,
   "metadata": {},
   "outputs": [],
   "source": [
    "torch.manual_seed(42)\n",
    "NUM_EPOCHS = 10\n",
    "\n",
    "model_0 = TinyVGG(input_shape=3,\n",
    "                  hidden_units=10, \n",
    "                  output_shape=3)\n",
    "\n",
    "loss_fn = nn.CrossEntropyLoss()\n",
    "adam = torch.optim.Adam(params=model_0.parameters(), lr=.001)"
   ]
  },
  {
   "cell_type": "code",
   "execution_count": 185,
   "metadata": {},
   "outputs": [
    {
     "data": {
      "application/vnd.jupyter.widget-view+json": {
       "model_id": "17290ff1f0a647a6b23f3ca5cc80dc22",
       "version_major": 2,
       "version_minor": 0
      },
      "text/plain": [
       "  0%|          | 0/10 [00:00<?, ?it/s]"
      ]
     },
     "metadata": {},
     "output_type": "display_data"
    },
    {
     "name": "stdout",
     "output_type": "stream",
     "text": [
      "Epoch 1: \n",
      " \tTrain_loss: 0.787 | Train_acc: 0.662 \n",
      " \t Test_loss: 0.989 | Test_acc: 0.442\n",
      "Epoch 2: \n",
      " \tTrain_loss: 0.912 | Train_acc: 0.637 \n",
      " \t Test_loss: 1.014 | Test_acc: 0.448\n",
      "Epoch 3: \n",
      " \tTrain_loss: 0.955 | Train_acc: 0.487 \n",
      " \t Test_loss: 0.973 | Test_acc: 0.480\n",
      "Epoch 4: \n",
      " \tTrain_loss: 0.827 | Train_acc: 0.671 \n",
      " \t Test_loss: 0.949 | Test_acc: 0.480\n",
      "Epoch 5: \n",
      " \tTrain_loss: 0.779 | Train_acc: 0.646 \n",
      " \t Test_loss: 1.016 | Test_acc: 0.503\n",
      "Epoch 6: \n",
      " \tTrain_loss: 0.706 | Train_acc: 0.704 \n",
      " \t Test_loss: 0.991 | Test_acc: 0.435\n",
      "Epoch 7: \n",
      " \tTrain_loss: 0.732 | Train_acc: 0.700 \n",
      " \t Test_loss: 1.110 | Test_acc: 0.473\n",
      "Epoch 8: \n",
      " \tTrain_loss: 0.761 | Train_acc: 0.642 \n",
      " \t Test_loss: 1.021 | Test_acc: 0.491\n",
      "Epoch 9: \n",
      " \tTrain_loss: 0.734 | Train_acc: 0.679 \n",
      " \t Test_loss: 1.019 | Test_acc: 0.503\n",
      "Epoch 10: \n",
      " \tTrain_loss: 0.741 | Train_acc: 0.675 \n",
      " \t Test_loss: 1.030 | Test_acc: 0.473\n"
     ]
    }
   ],
   "source": [
    "metrics = train(model_0, NUM_EPOCHS, train_loader, test_loader, adam, loss_fn)"
   ]
  },
  {
   "cell_type": "code",
   "execution_count": 190,
   "metadata": {},
   "outputs": [
    {
     "data": {
      "text/plain": [
       "[<matplotlib.lines.Line2D at 0x295f86290>]"
      ]
     },
     "execution_count": 190,
     "metadata": {},
     "output_type": "execute_result"
    },
    {
     "data": {
      "image/png": "[encoded data removed]",
      "text/plain": [
       "<Figure size 600x600 with 1 Axes>"
      ]
     },
     "metadata": {},
     "output_type": "display_data"
    }
   ],
   "source": [
    "plt.figure(figsize=(6,6))\n",
    "\n",
    "plt.plot(range(1, NUM_EPOCHS +1), metrics[\"train_loss\"], label = \"train_loss\")\n",
    "plt.plot(range(1, NUM_EPOCHS +1), metrics[\"test_loss\"], label= \"test_loss\")"
   ]
  },
  {
   "cell_type": "code",
   "execution_count": 191,
   "metadata": {},
   "outputs": [
    {
     "data": {
      "text/plain": [
       "[<matplotlib.lines.Line2D at 0x29be5c250>]"
      ]
     },
     "execution_count": 191,
     "metadata": {},
     "output_type": "execute_result"
    },
    {
     "data": {
      "image/png": "[encoded data removed]",
      "text/plain": [
       "<Figure size 600x600 with 1 Axes>"
      ]
     },
     "metadata": {},
     "output_type": "display_data"
    }
   ],
   "source": [
    "plt.figure(figsize=(6,6))\n",
    "\n",
    "plt.plot(range(1, NUM_EPOCHS +1), metrics[\"train_acc\"], label = \"train_acc\")\n",
    "plt.plot(range(1, NUM_EPOCHS +1), metrics[\"test_acc\"], label= \"test_acc\")"
   ]
  },
  {
   "cell_type": "code",
   "execution_count": 198,
   "metadata": {},
   "outputs": [],
   "source": [
    "model_1 = TinyVGG(input_shape=3, hidden_units=10, output_shape=3)\n",
    "loss_fn_1 = nn.CrossEntropyLoss()\n",
    "optimizer_1 = torch.optim.Adam(params= model_1.parameters(), lr = 0.002)"
   ]
  },
  {
   "cell_type": "code",
   "execution_count": 202,
   "metadata": {},
   "outputs": [
    {
     "data": {
      "application/vnd.jupyter.widget-view+json": {
       "model_id": "0e5e9674494646cd9d05d12a07110577",
       "version_major": 2,
       "version_minor": 0
      },
      "text/plain": [
       "  0%|          | 0/10 [00:00<?, ?it/s]"
      ]
     },
     "metadata": {},
     "output_type": "display_data"
    },
    {
     "name": "stdout",
     "output_type": "stream",
     "text": [
      "Epoch 1: \n",
      " \tTrain_loss: 1.096 | Train_acc: 0.388 \n",
      " \t Test_loss: 1.106 | Test_acc: 0.312\n",
      "Epoch 2: \n",
      " \tTrain_loss: 1.096 | Train_acc: 0.388 \n",
      " \t Test_loss: 1.106 | Test_acc: 0.312\n",
      "Epoch 3: \n",
      " \tTrain_loss: 1.095 | Train_acc: 0.388 \n",
      " \t Test_loss: 1.108 | Test_acc: 0.312\n",
      "Epoch 4: \n",
      " \tTrain_loss: 1.091 | Train_acc: 0.400 \n",
      " \t Test_loss: 1.118 | Test_acc: 0.375\n",
      "Epoch 5: \n",
      " \tTrain_loss: 1.082 | Train_acc: 0.442 \n",
      " \t Test_loss: 1.060 | Test_acc: 0.409\n",
      "Epoch 6: \n",
      " \tTrain_loss: 1.030 | Train_acc: 0.483 \n",
      " \t Test_loss: 1.104 | Test_acc: 0.398\n",
      "Epoch 7: \n",
      " \tTrain_loss: 1.082 | Train_acc: 0.383 \n",
      " \t Test_loss: 1.071 | Test_acc: 0.366\n",
      "Epoch 8: \n",
      " \tTrain_loss: 1.049 | Train_acc: 0.471 \n",
      " \t Test_loss: 1.053 | Test_acc: 0.366\n",
      "Epoch 9: \n",
      " \tTrain_loss: 1.035 | Train_acc: 0.450 \n",
      " \t Test_loss: 1.066 | Test_acc: 0.392\n",
      "Epoch 10: \n",
      " \tTrain_loss: 1.037 | Train_acc: 0.542 \n",
      " \t Test_loss: 1.063 | Test_acc: 0.436\n"
     ]
    }
   ],
   "source": [
    "torch.manual_seed(42)\n",
    "\n",
    "NUM_EPOCHS=10\n",
    "\n",
    "model_1_metrics= train(model_1, \n",
    "                       NUM_EPOCHS,\n",
    "                       train_loader,\n",
    "                       test_loader,\n",
    "                       optimizer_1,\n",
    "                       loss_fn_1\n",
    "                       )"
   ]
  },
  {
   "cell_type": "code",
   "execution_count": 203,
   "metadata": {},
   "outputs": [
    {
     "data": {
      "text/plain": [
       "[<matplotlib.lines.Line2D at 0x29bf91510>]"
      ]
     },
     "execution_count": 203,
     "metadata": {},
     "output_type": "execute_result"
    },
    {
     "data": {
      "image/png": "[encoded data removed]",
      "text/plain": [
       "<Figure size 600x600 with 1 Axes>"
      ]
     },
     "metadata": {},
     "output_type": "display_data"
    }
   ],
   "source": [
    "plt.figure(figsize=(6,6))\n",
    "\n",
    "plt.plot(range(1, NUM_EPOCHS +1), model_1_metrics[\"train_loss\"], label = \"train_loss\")\n",
    "plt.plot(range(1, NUM_EPOCHS +1), model_1_metrics[\"test_loss\"], label= \"test_loss\")"
   ]
  },
  {
   "cell_type": "code",
   "execution_count": null,
   "metadata": {},
   "outputs": [],
   "source": []
  }
 ],
 "metadata": {
  "kernelspec": {
   "display_name": "pytorch_env",
   "language": "python",
   "name": "python3"
  },
  "language_info": {
   "codemirror_mode": {
    "name": "ipython",
    "version": 3
   },
   "file_extension": ".py",
   "mimetype": "text/x-python",
   "name": "python",
   "nbconvert_exporter": "python",
   "pygments_lexer": "ipython3",
   "version": "3.10.13"
  }
 },
 "nbformat": 4,
 "nbformat_minor": 2
}
