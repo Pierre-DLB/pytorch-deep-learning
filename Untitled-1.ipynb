{
 "cells": [
  {
   "cell_type": "code",
   "execution_count": 69,
   "metadata": {},
   "outputs": [
    {
     "data": {
      "text/plain": [
       "'1.13.1'"
      ]
     },
     "execution_count": 69,
     "metadata": {},
     "output_type": "execute_result"
    }
   ],
   "source": [
    "import torch\n",
    "import matplotlib.pyplot as plt\n",
    "from torch import nn\n",
    "torch.__version__"
   ]
  },
  {
   "cell_type": "code",
   "execution_count": 84,
   "metadata": {},
   "outputs": [],
   "source": [
    "weight = 0.7\n",
    "bias = 0.1\n",
    "\n",
    "X_test = torch.arange(end, end +0.4, step)\n",
    "start = 0\n",
    "end = 1\n",
    "step = .02\n",
    "X = torch.arange(start, end, step)\n",
    "Y = weight * X + bias\n",
    "Y_test = weight * X_test + bias"
   ]
  },
  {
   "cell_type": "code",
   "execution_count": 4,
   "metadata": {},
   "outputs": [
    {
     "data": {
      "text/plain": [
       "tensor([0.0000, 0.0200, 0.0400, 0.0600, 0.0800, 0.1000, 0.1200, 0.1400, 0.1600,\n",
       "        0.1800])"
      ]
     },
     "execution_count": 4,
     "metadata": {},
     "output_type": "execute_result"
    }
   ],
   "source": []
  },
  {
   "cell_type": "code",
   "execution_count": 6,
   "metadata": {},
   "outputs": [],
   "source": [
    "class LinearRegressionModel(nn.Module):\n",
    "    def __init__(self):\n",
    "        super().__init__()\n",
    "        self.weights = nn.Parameter(torch.randn(1, dtype=torch.float), requires_grad=True)\n",
    "        self.bias = nn.Parameter(torch.randn(1, dtype=torch.float), requires_grad=True)\n",
    "    \n",
    "    def forward(self, x):\n",
    "        # always exixts and should always be overwritten\n",
    "        return self.weights*x + self.bias"
   ]
  },
  {
   "cell_type": "code",
   "execution_count": 13,
   "metadata": {},
   "outputs": [],
   "source": [
    "torch.manual_seed(123)\n",
    "model0 = LinearRegressionModel()"
   ]
  },
  {
   "cell_type": "code",
   "execution_count": 14,
   "metadata": {},
   "outputs": [
    {
     "data": {
      "text/plain": [
       "[Parameter containing:\n",
       " tensor([-0.1115], requires_grad=True),\n",
       " Parameter containing:\n",
       " tensor([0.1204], requires_grad=True)]"
      ]
     },
     "execution_count": 14,
     "metadata": {},
     "output_type": "execute_result"
    }
   ],
   "source": [
    "list(model0.parameters())"
   ]
  },
  {
   "cell_type": "code",
   "execution_count": 9,
   "metadata": {},
   "outputs": [
    {
     "data": {
      "text/plain": [
       "OrderedDict([('weights', tensor([-0.9409])), ('bias', tensor([-0.6824]))])"
      ]
     },
     "execution_count": 9,
     "metadata": {},
     "output_type": "execute_result"
    }
   ],
   "source": [
    "model0.state_dict()"
   ]
  },
  {
   "cell_type": "code",
   "execution_count": 71,
   "metadata": {},
   "outputs": [
    {
     "data": {
      "text/plain": [
       "tensor([0.1044, 0.1183, 0.1323, 0.1463, 0.1602, 0.1742, 0.1881, 0.2021, 0.2161,\n",
       "        0.2300, 0.2440, 0.2580, 0.2719, 0.2859, 0.2998, 0.3138, 0.3278, 0.3417,\n",
       "        0.3557, 0.3697, 0.3836, 0.3976, 0.4116, 0.4255, 0.4395, 0.4534, 0.4674,\n",
       "        0.4814, 0.4953, 0.5093, 0.5233, 0.5372, 0.5512, 0.5652, 0.5791, 0.5931,\n",
       "        0.6070, 0.6210, 0.6350, 0.6489, 0.6629, 0.6769, 0.6908, 0.7048, 0.7187,\n",
       "        0.7327, 0.7467, 0.7606, 0.7746, 0.7886])"
      ]
     },
     "execution_count": 71,
     "metadata": {},
     "output_type": "execute_result"
    }
   ],
   "source": [
    "with torch.inference_mode():\n",
    "    y_preds = model0(X)\n",
    "y_preds"
   ]
  },
  {
   "cell_type": "code",
   "execution_count": 78,
   "metadata": {},
   "outputs": [],
   "source": [
    "# Train the model :\n",
    "loss_fn = nn.L1Loss()\n",
    "\n",
    "# Setup an optimizer\n",
    "optimizer  = torch.optim.SGD(params=model0.parameters(), lr = 0.001)\n"
   ]
  },
  {
   "cell_type": "code",
   "execution_count": 79,
   "metadata": {},
   "outputs": [],
   "source": [
    "# building a training loop in pytorch : \n",
    "epochs = 100\n",
    "\n",
    "for epoch in range(epochs):\n",
    "    # Set the model to training mode\n",
    "    model0.train()\n",
    "\n",
    "    # 1. Forward pass\n",
    "    y_0 = model0(X)\n",
    "\n",
    "    # 2. Calculate loss\n",
    "    loss = loss_fn(y_0, Y)\n",
    "\n",
    "    # Optimizer zero grad\n",
    "    optimizer.zero_grad()\n",
    "\n",
    "    #perform back propagation on the loss with respect to the model parameters\n",
    "    loss.backward()\n",
    "\n",
    "    # 5. Step the optimizer\n",
    "    optimizer.step()  # by default, the modifiactions on the gradients will accumulate so we need to zero them out\n",
    "\n",
    "\n",
    "    model0.eval() # set the gradient trace to false"
   ]
  },
  {
   "cell_type": "code",
   "execution_count": 80,
   "metadata": {},
   "outputs": [
    {
     "data": {
      "text/plain": [
       "OrderedDict([('weights', tensor([0.6994])), ('bias', tensor([0.0998]))])"
      ]
     },
     "execution_count": 80,
     "metadata": {},
     "output_type": "execute_result"
    }
   ],
   "source": [
    "model0.state_dict()"
   ]
  },
  {
   "cell_type": "code",
   "execution_count": 85,
   "metadata": {},
   "outputs": [
    {
     "data": {
      "text/plain": [
       "<matplotlib.collections.PathCollection at 0x141b69f70>"
      ]
     },
     "execution_count": 85,
     "metadata": {},
     "output_type": "execute_result"
    },
    {
     "data": {
      "image/png": "[encoded data removed]",
      "text/plain": [
       "<Figure size 432x288 with 1 Axes>"
      ]
     },
     "metadata": {
      "needs_background": "light"
     },
     "output_type": "display_data"
    }
   ],
   "source": [
    "plt.scatter(X, Y, color='blue')\n",
    "plt.scatter(X, y_preds, color= 'orange')\n",
    "plt.scatter(X_test, Y_test, color='green')"
   ]
  },
  {
   "cell_type": "code",
   "execution_count": 86,
   "metadata": {},
   "outputs": [
    {
     "name": "stdout",
     "output_type": "stream",
     "text": [
      "Epoch: 0 | Training loss: 0.0007 | Test loss: 0.0010\n",
      "Epoch: 10 | Training loss: 0.0007 | Test loss: 0.0010\n",
      "Epoch: 20 | Training loss: 0.0007 | Test loss: 0.0010\n",
      "Epoch: 30 | Training loss: 0.0007 | Test loss: 0.0010\n",
      "Epoch: 40 | Training loss: 0.0007 | Test loss: 0.0010\n",
      "Epoch: 50 | Training loss: 0.0007 | Test loss: 0.0010\n",
      "Epoch: 60 | Training loss: 0.0007 | Test loss: 0.0010\n",
      "Epoch: 70 | Training loss: 0.0007 | Test loss: 0.0010\n",
      "Epoch: 80 | Training loss: 0.0007 | Test loss: 0.0010\n",
      "Epoch: 90 | Training loss: 0.0007 | Test loss: 0.0010\n"
     ]
    }
   ],
   "source": [
    "# pytorch testing loop\n",
    "\n",
    "epoch_count = []\n",
    "train_loss = []\n",
    "test_loss = []\n",
    "\n",
    "for epoch in range(epochs):\n",
    "\n",
    "    ### Training loop code here ###\n",
    "\n",
    "    ### Testing starts here ###\n",
    "\n",
    "    # model to evaluation mode\n",
    "    model0.eval()\n",
    "\n",
    "    # turn inference mode context manager on\n",
    "    with torch.inference_mode():\n",
    "\n",
    "        # Forward pass on test data\n",
    "        test_pred = model0(X_test)\n",
    "        # Calcualte loss\n",
    "        test_loss = loss_fn(test_pred, Y_test)\n",
    "    \n",
    "    # print out what is happening every 10 epochs : \n",
    "    if epoch % 10 == 0:\n",
    "        print(f'Epoch: {epoch} | Training loss: {loss.item():.4f} | Test loss: {test_loss.item():.4f}')"
   ]
  },
  {
   "cell_type": "code",
   "execution_count": null,
   "metadata": {},
   "outputs": [],
   "source": []
  }
 ],
 "metadata": {
  "kernelspec": {
   "display_name": "mlp",
   "language": "python",
   "name": "python3"
  },
  "language_info": {
   "codemirror_mode": {
    "name": "ipython",
    "version": 3
   },
   "file_extension": ".py",
   "mimetype": "text/x-python",
   "name": "python",
   "nbconvert_exporter": "python",
   "pygments_lexer": "ipython3",
   "version": "3.9.15"
  },
  "orig_nbformat": 4,
  "vscode": {
   "interpreter": {
    "hash": "6378453d1173915f6065f8f6f200cd7f583b0c8894300e3c063b4839450d95b7"
   }
  }
 },
 "nbformat": 4,
 "nbformat_minor": 2
}
